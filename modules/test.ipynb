{
 "cells": [
  {
   "cell_type": "code",
   "execution_count": 36,
   "metadata": {},
   "outputs": [],
   "source": [
    "from joblib import Parallel, delayed\n",
    "import numpy as np\n",
    "import pandas as pd\n",
    "\n",
    "def function(input1, input2, input3):\n",
    "\tx = pd.DataFrame([np.repeat(input1,1000),np.repeat(input2,1000),np.repeat(input3,1000)], columns=range(1000), index=[0,1,2])\n",
    "\ty = pd.DataFrame([np.repeat(5*2,3),np.repeat(6,3),np.repeat(7,3)], columns=range(3), index=[0,1,2]).T\n",
    "\tx.index = pd.MultiIndex.from_product([[1],x.index])\n",
    "\tz = x.apply(lambda x: x*y, axis=1)\n",
    "\tz = pd.concat(z.values, keys=range(len(z)))\n",
    "\tz = z.apply(lambda x: x*y.loc[x.name[1]], axis=1)\n",
    "\tz = z.groupby(level=0).mean()\n",
    "\treturn z.mean().mean()\n",
    "\t\n",
    "inputs1_list = np.linspace(1,5,1000)\n",
    "inputs2_list = np.linspace(1,5,1000)\n",
    "inputs3_list = np.linspace(1,5,1000)\n"
   ]
  },
  {
   "cell_type": "code",
   "execution_count": 43,
   "metadata": {},
   "outputs": [
    {
     "data": {
      "text/plain": [
       "{9: datetime.timedelta(seconds=10, microseconds=83330),\n",
       " 10: datetime.timedelta(seconds=8, microseconds=682716),\n",
       " 11: datetime.timedelta(seconds=9, microseconds=517227)}"
      ]
     },
     "execution_count": 43,
     "metadata": {},
     "output_type": "execute_result"
    }
   ],
   "source": [
    "from datetime import datetime\n",
    "times2 = {}\n",
    "for j in range(9,12):\n",
    "    t0 = datetime.now()\n",
    "    for i in range(3):\n",
    "        output = Parallel(n_jobs=j)(delayed(function)(\n",
    "                        i1, i2, i3\n",
    "                    ) for i1, i2, i3 in zip(inputs1_list, inputs2_list, inputs3_list))\n",
    "    t1 = datetime.now()\n",
    "    times2[j] = t1-t0\n",
    "times2"
   ]
  },
  {
   "cell_type": "code",
   "execution_count": 42,
   "metadata": {},
   "outputs": [
    {
     "data": {
      "text/plain": [
       "{1: '0:01:00.922562',\n",
       " 2: '0:00:32.956246',\n",
       " 3: '0:00:22.866710',\n",
       " 4: '0:00:18.533435',\n",
       " 5: '0:00:17.432820',\n",
       " 6: '0:00:15.494040',\n",
       " 7: '0:00:14.221344',\n",
       " 8: '0:00:12.817930'}"
      ]
     },
     "execution_count": 42,
     "metadata": {},
     "output_type": "execute_result"
    }
   ],
   "source": [
    "{i:str(times[i]) for i in times}"
   ]
  }
 ],
 "metadata": {
  "kernelspec": {
   "display_name": "Python 3",
   "language": "python",
   "name": "python3"
  },
  "language_info": {
   "codemirror_mode": {
    "name": "ipython",
    "version": 3
   },
   "file_extension": ".py",
   "mimetype": "text/x-python",
   "name": "python",
   "nbconvert_exporter": "python",
   "pygments_lexer": "ipython3",
   "version": "3.10.12"
  }
 },
 "nbformat": 4,
 "nbformat_minor": 2
}
